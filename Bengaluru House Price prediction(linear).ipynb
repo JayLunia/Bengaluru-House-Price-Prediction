{
 "cells": [
  {
   "cell_type": "code",
   "execution_count": 1,
   "id": "2a4fc611",
   "metadata": {},
   "outputs": [],
   "source": [
    "import pandas as pd\n",
    "import numpy as np\n",
    "import seaborn as sns\n",
    "import matplotlib.pyplot as plt"
   ]
  },
  {
   "cell_type": "markdown",
   "id": "7ec6505b",
   "metadata": {},
   "source": [
    "## Loading the Dataset"
   ]
  },
  {
   "cell_type": "code",
   "execution_count": 2,
   "id": "8b4f7ed2",
   "metadata": {},
   "outputs": [],
   "source": [
    "data=pd.read_csv('./dataset/Bengaluru_House_Data.csv')"
   ]
  },
  {
   "cell_type": "markdown",
   "id": "2decce82",
   "metadata": {},
   "source": [
    "## Evaluation the dataset"
   ]
  },
  {
   "cell_type": "code",
   "execution_count": 3,
   "id": "4f08ad00",
   "metadata": {},
   "outputs": [
    {
     "data": {
      "text/html": [
       "<div>\n",
       "<style scoped>\n",
       "    .dataframe tbody tr th:only-of-type {\n",
       "        vertical-align: middle;\n",
       "    }\n",
       "\n",
       "    .dataframe tbody tr th {\n",
       "        vertical-align: top;\n",
       "    }\n",
       "\n",
       "    .dataframe thead th {\n",
       "        text-align: right;\n",
       "    }\n",
       "</style>\n",
       "<table border=\"1\" class=\"dataframe\">\n",
       "  <thead>\n",
       "    <tr style=\"text-align: right;\">\n",
       "      <th></th>\n",
       "      <th>area_type</th>\n",
       "      <th>availability</th>\n",
       "      <th>location</th>\n",
       "      <th>size</th>\n",
       "      <th>society</th>\n",
       "      <th>total_sqft</th>\n",
       "      <th>bath</th>\n",
       "      <th>balcony</th>\n",
       "      <th>price</th>\n",
       "    </tr>\n",
       "  </thead>\n",
       "  <tbody>\n",
       "    <tr>\n",
       "      <th>0</th>\n",
       "      <td>Super built-up  Area</td>\n",
       "      <td>19-Dec</td>\n",
       "      <td>Electronic City Phase II</td>\n",
       "      <td>2 BHK</td>\n",
       "      <td>Coomee</td>\n",
       "      <td>1056</td>\n",
       "      <td>2.0</td>\n",
       "      <td>1.0</td>\n",
       "      <td>39.07</td>\n",
       "    </tr>\n",
       "    <tr>\n",
       "      <th>1</th>\n",
       "      <td>Plot  Area</td>\n",
       "      <td>Ready To Move</td>\n",
       "      <td>Chikka Tirupathi</td>\n",
       "      <td>4 Bedroom</td>\n",
       "      <td>Theanmp</td>\n",
       "      <td>2600</td>\n",
       "      <td>5.0</td>\n",
       "      <td>3.0</td>\n",
       "      <td>120.00</td>\n",
       "    </tr>\n",
       "    <tr>\n",
       "      <th>2</th>\n",
       "      <td>Built-up  Area</td>\n",
       "      <td>Ready To Move</td>\n",
       "      <td>Uttarahalli</td>\n",
       "      <td>3 BHK</td>\n",
       "      <td>NaN</td>\n",
       "      <td>1440</td>\n",
       "      <td>2.0</td>\n",
       "      <td>3.0</td>\n",
       "      <td>62.00</td>\n",
       "    </tr>\n",
       "    <tr>\n",
       "      <th>3</th>\n",
       "      <td>Super built-up  Area</td>\n",
       "      <td>Ready To Move</td>\n",
       "      <td>Lingadheeranahalli</td>\n",
       "      <td>3 BHK</td>\n",
       "      <td>Soiewre</td>\n",
       "      <td>1521</td>\n",
       "      <td>3.0</td>\n",
       "      <td>1.0</td>\n",
       "      <td>95.00</td>\n",
       "    </tr>\n",
       "    <tr>\n",
       "      <th>4</th>\n",
       "      <td>Super built-up  Area</td>\n",
       "      <td>Ready To Move</td>\n",
       "      <td>Kothanur</td>\n",
       "      <td>2 BHK</td>\n",
       "      <td>NaN</td>\n",
       "      <td>1200</td>\n",
       "      <td>2.0</td>\n",
       "      <td>1.0</td>\n",
       "      <td>51.00</td>\n",
       "    </tr>\n",
       "  </tbody>\n",
       "</table>\n",
       "</div>"
      ],
      "text/plain": [
       "              area_type   availability                  location       size  \\\n",
       "0  Super built-up  Area         19-Dec  Electronic City Phase II      2 BHK   \n",
       "1            Plot  Area  Ready To Move          Chikka Tirupathi  4 Bedroom   \n",
       "2        Built-up  Area  Ready To Move               Uttarahalli      3 BHK   \n",
       "3  Super built-up  Area  Ready To Move        Lingadheeranahalli      3 BHK   \n",
       "4  Super built-up  Area  Ready To Move                  Kothanur      2 BHK   \n",
       "\n",
       "   society total_sqft  bath  balcony   price  \n",
       "0  Coomee        1056   2.0      1.0   39.07  \n",
       "1  Theanmp       2600   5.0      3.0  120.00  \n",
       "2      NaN       1440   2.0      3.0   62.00  \n",
       "3  Soiewre       1521   3.0      1.0   95.00  \n",
       "4      NaN       1200   2.0      1.0   51.00  "
      ]
     },
     "execution_count": 3,
     "metadata": {},
     "output_type": "execute_result"
    }
   ],
   "source": [
    "data.head()"
   ]
  },
  {
   "cell_type": "code",
   "execution_count": 4,
   "id": "19281eac",
   "metadata": {},
   "outputs": [
    {
     "data": {
      "text/plain": [
       "(13320, 9)"
      ]
     },
     "execution_count": 4,
     "metadata": {},
     "output_type": "execute_result"
    }
   ],
   "source": [
    "data.shape"
   ]
  },
  {
   "cell_type": "code",
   "execution_count": 5,
   "id": "f39b5f83",
   "metadata": {},
   "outputs": [
    {
     "data": {
      "text/plain": [
       "area_type        object\n",
       "availability     object\n",
       "location         object\n",
       "size             object\n",
       "society          object\n",
       "total_sqft       object\n",
       "bath            float64\n",
       "balcony         float64\n",
       "price           float64\n",
       "dtype: object"
      ]
     },
     "execution_count": 5,
     "metadata": {},
     "output_type": "execute_result"
    }
   ],
   "source": [
    "data.dtypes"
   ]
  },
  {
   "cell_type": "markdown",
   "id": "a23cbb71",
   "metadata": {},
   "source": [
    "- `size` have to be converted to integer\n",
    "- `total_sqft` have to be converted to float"
   ]
  },
  {
   "cell_type": "code",
   "execution_count": 6,
   "id": "6156f754",
   "metadata": {},
   "outputs": [
    {
     "data": {
      "text/plain": [
       "area_type          0\n",
       "availability       0\n",
       "location           1\n",
       "size              16\n",
       "society         5502\n",
       "total_sqft         0\n",
       "bath              73\n",
       "balcony          609\n",
       "price              0\n",
       "dtype: int64"
      ]
     },
     "execution_count": 6,
     "metadata": {},
     "output_type": "execute_result"
    }
   ],
   "source": [
    "data.isnull().sum()"
   ]
  },
  {
   "cell_type": "code",
   "execution_count": 7,
   "id": "db8ac7f2",
   "metadata": {},
   "outputs": [
    {
     "data": {
      "text/plain": [
       "area_type        0.000000\n",
       "availability     0.000000\n",
       "location         0.007508\n",
       "size             0.120120\n",
       "society         41.306306\n",
       "total_sqft       0.000000\n",
       "bath             0.548048\n",
       "balcony          4.572072\n",
       "price            0.000000\n",
       "dtype: float64"
      ]
     },
     "execution_count": 7,
     "metadata": {},
     "output_type": "execute_result"
    }
   ],
   "source": [
    "data.isnull().sum()/data.shape[0]*100"
   ]
  },
  {
   "cell_type": "markdown",
   "id": "f79a372b",
   "metadata": {},
   "source": [
    "- Will drop the `society` column as 41% of the data is missing"
   ]
  },
  {
   "cell_type": "markdown",
   "id": "d436a660",
   "metadata": {},
   "source": [
    "## Handling missing or wrong datatypes values\n",
    "\n",
    "   - `size` will change the datatype and then fill the missing value\n",
    "   - `total_sqft` will change the datatype to float\n",
    "   - `balcony` will fill the missing data with its median\n",
    "   - `location` will fill the missing data with its mode\n",
    "   - `bath` will fill the missing data with its median"
   ]
  },
  {
   "cell_type": "markdown",
   "id": "fcf85f36",
   "metadata": {},
   "source": [
    "### location"
   ]
  },
  {
   "cell_type": "code",
   "execution_count": 8,
   "id": "7d1861e4",
   "metadata": {},
   "outputs": [
    {
     "data": {
      "text/plain": [
       "0        Electronic City Phase II\n",
       "1                Chikka Tirupathi\n",
       "2                     Uttarahalli\n",
       "3              Lingadheeranahalli\n",
       "4                        Kothanur\n",
       "                   ...           \n",
       "13315                  Whitefield\n",
       "13316               Richards Town\n",
       "13317       Raja Rajeshwari Nagar\n",
       "13318             Padmanabhanagar\n",
       "13319                Doddathoguru\n",
       "Name: location, Length: 13320, dtype: object"
      ]
     },
     "execution_count": 8,
     "metadata": {},
     "output_type": "execute_result"
    }
   ],
   "source": [
    "data.location"
   ]
  },
  {
   "cell_type": "code",
   "execution_count": 9,
   "id": "1227ce06",
   "metadata": {},
   "outputs": [
    {
     "data": {
      "text/plain": [
       "Whitefield                        540\n",
       "Sarjapur  Road                    399\n",
       "Electronic City                   302\n",
       "Kanakpura Road                    273\n",
       "Thanisandra                       234\n",
       "                                 ... \n",
       "Bapuji Layout                       1\n",
       "1st Stage Radha Krishna Layout      1\n",
       "BEML Layout 5th stage               1\n",
       "singapura paradise                  1\n",
       "Abshot Layout                       1\n",
       "Name: location, Length: 1305, dtype: int64"
      ]
     },
     "execution_count": 9,
     "metadata": {},
     "output_type": "execute_result"
    }
   ],
   "source": [
    "data.location.value_counts()"
   ]
  },
  {
   "cell_type": "code",
   "execution_count": 10,
   "id": "db438c9b",
   "metadata": {},
   "outputs": [
    {
     "data": {
      "text/plain": [
       "'Whitefield'"
      ]
     },
     "execution_count": 10,
     "metadata": {},
     "output_type": "execute_result"
    }
   ],
   "source": [
    "data.location.mode()[0]"
   ]
  },
  {
   "cell_type": "markdown",
   "id": "b1156ad8",
   "metadata": {},
   "source": [
    "**filling the location with `whitefield`**"
   ]
  },
  {
   "cell_type": "code",
   "execution_count": 11,
   "id": "1d4e5a1f",
   "metadata": {},
   "outputs": [],
   "source": [
    "data.location.fillna(data.location.mode()[0],inplace=True)"
   ]
  },
  {
   "cell_type": "code",
   "execution_count": 12,
   "id": "2e97aeac",
   "metadata": {},
   "outputs": [
    {
     "data": {
      "text/plain": [
       "area_type        0.000000\n",
       "availability     0.000000\n",
       "location         0.000000\n",
       "size             0.120120\n",
       "society         41.306306\n",
       "total_sqft       0.000000\n",
       "bath             0.548048\n",
       "balcony          4.572072\n",
       "price            0.000000\n",
       "dtype: float64"
      ]
     },
     "execution_count": 12,
     "metadata": {},
     "output_type": "execute_result"
    }
   ],
   "source": [
    "data.isnull().sum()/data.shape[0]*100"
   ]
  },
  {
   "cell_type": "markdown",
   "id": "2cbc651c",
   "metadata": {},
   "source": [
    "### size"
   ]
  },
  {
   "cell_type": "code",
   "execution_count": 13,
   "id": "feff7a11",
   "metadata": {},
   "outputs": [
    {
     "data": {
      "text/plain": [
       "0            2 BHK\n",
       "1        4 Bedroom\n",
       "2            3 BHK\n",
       "3            3 BHK\n",
       "4            2 BHK\n",
       "           ...    \n",
       "13315    5 Bedroom\n",
       "13316        4 BHK\n",
       "13317        2 BHK\n",
       "13318        4 BHK\n",
       "13319        1 BHK\n",
       "Name: size, Length: 13320, dtype: object"
      ]
     },
     "execution_count": 13,
     "metadata": {},
     "output_type": "execute_result"
    }
   ],
   "source": [
    "data['size']"
   ]
  },
  {
   "cell_type": "markdown",
   "id": "d4ed0a92",
   "metadata": {},
   "source": [
    "**changing the datatype to integer**"
   ]
  },
  {
   "cell_type": "code",
   "execution_count": 14,
   "id": "f3c98a46",
   "metadata": {},
   "outputs": [],
   "source": [
    "def BHK(x):\n",
    "    if(type(x)!=float):\n",
    "        return int(x.split(\" \")[0])\n",
    "    else:\n",
    "        return x"
   ]
  },
  {
   "cell_type": "code",
   "execution_count": 15,
   "id": "07e92770",
   "metadata": {},
   "outputs": [],
   "source": [
    "data['size']=data['size'].apply(BHK)"
   ]
  },
  {
   "cell_type": "markdown",
   "id": "94c56e9d",
   "metadata": {},
   "source": [
    "**Handling missing value**"
   ]
  },
  {
   "cell_type": "code",
   "execution_count": 16,
   "id": "238cc149",
   "metadata": {},
   "outputs": [
    {
     "data": {
      "text/plain": [
       "count    13304.000000\n",
       "mean         2.803743\n",
       "std          1.294974\n",
       "min          1.000000\n",
       "25%          2.000000\n",
       "50%          3.000000\n",
       "75%          3.000000\n",
       "max         43.000000\n",
       "Name: size, dtype: float64"
      ]
     },
     "execution_count": 16,
     "metadata": {},
     "output_type": "execute_result"
    }
   ],
   "source": [
    "data['size'].describe()"
   ]
  },
  {
   "cell_type": "markdown",
   "id": "8992ff1e",
   "metadata": {},
   "source": [
    "**Filling nan value with median i.e `3`**"
   ]
  },
  {
   "cell_type": "code",
   "execution_count": 17,
   "id": "f245dc18",
   "metadata": {},
   "outputs": [],
   "source": [
    "data['size'].fillna(3,inplace=True)"
   ]
  },
  {
   "cell_type": "code",
   "execution_count": 18,
   "id": "82cf7232",
   "metadata": {},
   "outputs": [],
   "source": [
    "data['size']=data['size'].astype(int)"
   ]
  },
  {
   "cell_type": "code",
   "execution_count": 19,
   "id": "eadbbf68",
   "metadata": {},
   "outputs": [
    {
     "data": {
      "text/plain": [
       "0        2\n",
       "1        4\n",
       "2        3\n",
       "3        3\n",
       "4        2\n",
       "        ..\n",
       "13315    5\n",
       "13316    4\n",
       "13317    2\n",
       "13318    4\n",
       "13319    1\n",
       "Name: size, Length: 13320, dtype: int32"
      ]
     },
     "execution_count": 19,
     "metadata": {},
     "output_type": "execute_result"
    }
   ],
   "source": [
    "data['size']"
   ]
  },
  {
   "cell_type": "code",
   "execution_count": 20,
   "id": "4ab4cdea",
   "metadata": {},
   "outputs": [
    {
     "data": {
      "text/plain": [
       "area_type        0.000000\n",
       "availability     0.000000\n",
       "location         0.000000\n",
       "size             0.000000\n",
       "society         41.306306\n",
       "total_sqft       0.000000\n",
       "bath             0.548048\n",
       "balcony          4.572072\n",
       "price            0.000000\n",
       "dtype: float64"
      ]
     },
     "execution_count": 20,
     "metadata": {},
     "output_type": "execute_result"
    }
   ],
   "source": [
    "data.isnull().sum()/data.shape[0]*100"
   ]
  },
  {
   "cell_type": "markdown",
   "id": "967c7e48",
   "metadata": {},
   "source": [
    "### society"
   ]
  },
  {
   "cell_type": "markdown",
   "id": "95a02995",
   "metadata": {},
   "source": [
    "**Dropping the society column**"
   ]
  },
  {
   "cell_type": "code",
   "execution_count": 21,
   "id": "dbb2b2f3",
   "metadata": {},
   "outputs": [],
   "source": [
    "data.drop(['society'],axis=1,inplace=True)"
   ]
  },
  {
   "cell_type": "code",
   "execution_count": 22,
   "id": "2768072a",
   "metadata": {},
   "outputs": [
    {
     "data": {
      "text/html": [
       "<div>\n",
       "<style scoped>\n",
       "    .dataframe tbody tr th:only-of-type {\n",
       "        vertical-align: middle;\n",
       "    }\n",
       "\n",
       "    .dataframe tbody tr th {\n",
       "        vertical-align: top;\n",
       "    }\n",
       "\n",
       "    .dataframe thead th {\n",
       "        text-align: right;\n",
       "    }\n",
       "</style>\n",
       "<table border=\"1\" class=\"dataframe\">\n",
       "  <thead>\n",
       "    <tr style=\"text-align: right;\">\n",
       "      <th></th>\n",
       "      <th>area_type</th>\n",
       "      <th>availability</th>\n",
       "      <th>location</th>\n",
       "      <th>size</th>\n",
       "      <th>total_sqft</th>\n",
       "      <th>bath</th>\n",
       "      <th>balcony</th>\n",
       "      <th>price</th>\n",
       "    </tr>\n",
       "  </thead>\n",
       "  <tbody>\n",
       "    <tr>\n",
       "      <th>0</th>\n",
       "      <td>Super built-up  Area</td>\n",
       "      <td>19-Dec</td>\n",
       "      <td>Electronic City Phase II</td>\n",
       "      <td>2</td>\n",
       "      <td>1056</td>\n",
       "      <td>2.0</td>\n",
       "      <td>1.0</td>\n",
       "      <td>39.07</td>\n",
       "    </tr>\n",
       "    <tr>\n",
       "      <th>1</th>\n",
       "      <td>Plot  Area</td>\n",
       "      <td>Ready To Move</td>\n",
       "      <td>Chikka Tirupathi</td>\n",
       "      <td>4</td>\n",
       "      <td>2600</td>\n",
       "      <td>5.0</td>\n",
       "      <td>3.0</td>\n",
       "      <td>120.00</td>\n",
       "    </tr>\n",
       "    <tr>\n",
       "      <th>2</th>\n",
       "      <td>Built-up  Area</td>\n",
       "      <td>Ready To Move</td>\n",
       "      <td>Uttarahalli</td>\n",
       "      <td>3</td>\n",
       "      <td>1440</td>\n",
       "      <td>2.0</td>\n",
       "      <td>3.0</td>\n",
       "      <td>62.00</td>\n",
       "    </tr>\n",
       "    <tr>\n",
       "      <th>3</th>\n",
       "      <td>Super built-up  Area</td>\n",
       "      <td>Ready To Move</td>\n",
       "      <td>Lingadheeranahalli</td>\n",
       "      <td>3</td>\n",
       "      <td>1521</td>\n",
       "      <td>3.0</td>\n",
       "      <td>1.0</td>\n",
       "      <td>95.00</td>\n",
       "    </tr>\n",
       "    <tr>\n",
       "      <th>4</th>\n",
       "      <td>Super built-up  Area</td>\n",
       "      <td>Ready To Move</td>\n",
       "      <td>Kothanur</td>\n",
       "      <td>2</td>\n",
       "      <td>1200</td>\n",
       "      <td>2.0</td>\n",
       "      <td>1.0</td>\n",
       "      <td>51.00</td>\n",
       "    </tr>\n",
       "  </tbody>\n",
       "</table>\n",
       "</div>"
      ],
      "text/plain": [
       "              area_type   availability                  location  size  \\\n",
       "0  Super built-up  Area         19-Dec  Electronic City Phase II     2   \n",
       "1            Plot  Area  Ready To Move          Chikka Tirupathi     4   \n",
       "2        Built-up  Area  Ready To Move               Uttarahalli     3   \n",
       "3  Super built-up  Area  Ready To Move        Lingadheeranahalli     3   \n",
       "4  Super built-up  Area  Ready To Move                  Kothanur     2   \n",
       "\n",
       "  total_sqft  bath  balcony   price  \n",
       "0       1056   2.0      1.0   39.07  \n",
       "1       2600   5.0      3.0  120.00  \n",
       "2       1440   2.0      3.0   62.00  \n",
       "3       1521   3.0      1.0   95.00  \n",
       "4       1200   2.0      1.0   51.00  "
      ]
     },
     "execution_count": 22,
     "metadata": {},
     "output_type": "execute_result"
    }
   ],
   "source": [
    "data.head()"
   ]
  },
  {
   "cell_type": "markdown",
   "id": "bdb166bc",
   "metadata": {},
   "source": [
    "### total_sqft"
   ]
  },
  {
   "cell_type": "code",
   "execution_count": 23,
   "id": "bd5d053b",
   "metadata": {},
   "outputs": [
    {
     "data": {
      "text/plain": [
       "1200    843\n",
       "1100    221\n",
       "1500    205\n",
       "2400    196\n",
       "600     180\n",
       "       ... \n",
       "3580      1\n",
       "2461      1\n",
       "1437      1\n",
       "2155      1\n",
       "4689      1\n",
       "Name: total_sqft, Length: 2117, dtype: int64"
      ]
     },
     "execution_count": 23,
     "metadata": {},
     "output_type": "execute_result"
    }
   ],
   "source": [
    "data.total_sqft.value_counts()"
   ]
  },
  {
   "cell_type": "code",
   "execution_count": 24,
   "id": "10d54401",
   "metadata": {},
   "outputs": [
    {
     "data": {
      "text/plain": [
       "array(['1056', '2600', '1440', ..., '1133 - 1384', '774', '4689'],\n",
       "      dtype=object)"
      ]
     },
     "execution_count": 24,
     "metadata": {},
     "output_type": "execute_result"
    }
   ],
   "source": [
    "data.total_sqft.unique()"
   ]
  },
  {
   "cell_type": "code",
   "execution_count": 25,
   "id": "13b5ac0f",
   "metadata": {},
   "outputs": [],
   "source": [
    "def convert_sqft(x):\n",
    "    temp=x.split('-')\n",
    "    if len(temp)==2:\n",
    "        return (float(temp[0])+float(temp[1]))/2\n",
    "    try:\n",
    "        return float(x)\n",
    "    except:\n",
    "        return np.nan"
   ]
  },
  {
   "cell_type": "code",
   "execution_count": 26,
   "id": "924259ef",
   "metadata": {},
   "outputs": [],
   "source": [
    "data.total_sqft=data.total_sqft.apply(convert_sqft)"
   ]
  },
  {
   "cell_type": "code",
   "execution_count": 27,
   "id": "8a62be16",
   "metadata": {},
   "outputs": [
    {
     "data": {
      "text/plain": [
       "area_type        object\n",
       "availability     object\n",
       "location         object\n",
       "size              int32\n",
       "total_sqft      float64\n",
       "bath            float64\n",
       "balcony         float64\n",
       "price           float64\n",
       "dtype: object"
      ]
     },
     "execution_count": 27,
     "metadata": {},
     "output_type": "execute_result"
    }
   ],
   "source": [
    "data.dtypes"
   ]
  },
  {
   "cell_type": "code",
   "execution_count": 28,
   "id": "e3d1f23b",
   "metadata": {},
   "outputs": [
    {
     "data": {
      "text/plain": [
       "count    13274.000000\n",
       "mean      1559.626694\n",
       "std       1238.405258\n",
       "min          1.000000\n",
       "25%       1100.000000\n",
       "50%       1276.000000\n",
       "75%       1680.000000\n",
       "max      52272.000000\n",
       "Name: total_sqft, dtype: float64"
      ]
     },
     "execution_count": 28,
     "metadata": {},
     "output_type": "execute_result"
    }
   ],
   "source": [
    "data.total_sqft.describe()"
   ]
  },
  {
   "cell_type": "markdown",
   "id": "05913101",
   "metadata": {},
   "source": [
    "**Handling missing value**"
   ]
  },
  {
   "cell_type": "code",
   "execution_count": 29,
   "id": "2b5f74fb",
   "metadata": {},
   "outputs": [],
   "source": [
    "data.total_sqft.fillna(data.total_sqft.median(),inplace=True)"
   ]
  },
  {
   "cell_type": "code",
   "execution_count": 30,
   "id": "5f9d1990",
   "metadata": {},
   "outputs": [
    {
     "data": {
      "text/plain": [
       "area_type       0.000000\n",
       "availability    0.000000\n",
       "location        0.000000\n",
       "size            0.000000\n",
       "total_sqft      0.000000\n",
       "bath            0.548048\n",
       "balcony         4.572072\n",
       "price           0.000000\n",
       "dtype: float64"
      ]
     },
     "execution_count": 30,
     "metadata": {},
     "output_type": "execute_result"
    }
   ],
   "source": [
    "data.isnull().sum()/data.shape[0]*100"
   ]
  },
  {
   "cell_type": "markdown",
   "id": "28f6f271",
   "metadata": {},
   "source": [
    "### bath"
   ]
  },
  {
   "cell_type": "code",
   "execution_count": 31,
   "id": "034ec57a",
   "metadata": {},
   "outputs": [
    {
     "data": {
      "text/plain": [
       "0        2.0\n",
       "1        5.0\n",
       "2        2.0\n",
       "3        3.0\n",
       "4        2.0\n",
       "        ... \n",
       "13315    4.0\n",
       "13316    5.0\n",
       "13317    2.0\n",
       "13318    4.0\n",
       "13319    1.0\n",
       "Name: bath, Length: 13320, dtype: float64"
      ]
     },
     "execution_count": 31,
     "metadata": {},
     "output_type": "execute_result"
    }
   ],
   "source": [
    "data.bath"
   ]
  },
  {
   "cell_type": "code",
   "execution_count": 32,
   "id": "55ba409f",
   "metadata": {},
   "outputs": [
    {
     "data": {
      "text/plain": [
       "count    13247.000000\n",
       "mean         2.692610\n",
       "std          1.341458\n",
       "min          1.000000\n",
       "25%          2.000000\n",
       "50%          2.000000\n",
       "75%          3.000000\n",
       "max         40.000000\n",
       "Name: bath, dtype: float64"
      ]
     },
     "execution_count": 32,
     "metadata": {},
     "output_type": "execute_result"
    }
   ],
   "source": [
    "data.bath.describe()"
   ]
  },
  {
   "cell_type": "code",
   "execution_count": 33,
   "id": "63cd1157",
   "metadata": {},
   "outputs": [],
   "source": [
    "data['bath']=data.bath.fillna(data.bath.median())"
   ]
  },
  {
   "cell_type": "markdown",
   "id": "c8ab1e22",
   "metadata": {},
   "source": [
    "**Changing datatype to int**"
   ]
  },
  {
   "cell_type": "code",
   "execution_count": 34,
   "id": "9c0f9f81",
   "metadata": {},
   "outputs": [],
   "source": [
    "data['bath']=data.bath.astype(int)"
   ]
  },
  {
   "cell_type": "code",
   "execution_count": 35,
   "id": "1fbb2b79",
   "metadata": {},
   "outputs": [
    {
     "data": {
      "text/plain": [
       "area_type       0.000000\n",
       "availability    0.000000\n",
       "location        0.000000\n",
       "size            0.000000\n",
       "total_sqft      0.000000\n",
       "bath            0.000000\n",
       "balcony         4.572072\n",
       "price           0.000000\n",
       "dtype: float64"
      ]
     },
     "execution_count": 35,
     "metadata": {},
     "output_type": "execute_result"
    }
   ],
   "source": [
    "data.isnull().sum()/data.shape[0]*100"
   ]
  },
  {
   "cell_type": "markdown",
   "id": "350725fd",
   "metadata": {},
   "source": [
    "### balcony"
   ]
  },
  {
   "cell_type": "code",
   "execution_count": 36,
   "id": "5c230acb",
   "metadata": {},
   "outputs": [
    {
     "data": {
      "text/plain": [
       "0        1.0\n",
       "1        3.0\n",
       "2        3.0\n",
       "3        1.0\n",
       "4        1.0\n",
       "        ... \n",
       "13315    0.0\n",
       "13316    NaN\n",
       "13317    1.0\n",
       "13318    1.0\n",
       "13319    1.0\n",
       "Name: balcony, Length: 13320, dtype: float64"
      ]
     },
     "execution_count": 36,
     "metadata": {},
     "output_type": "execute_result"
    }
   ],
   "source": [
    "data.balcony"
   ]
  },
  {
   "cell_type": "code",
   "execution_count": 37,
   "id": "af6b12e7",
   "metadata": {},
   "outputs": [
    {
     "data": {
      "text/plain": [
       "count    12711.000000\n",
       "mean         1.584376\n",
       "std          0.817263\n",
       "min          0.000000\n",
       "25%          1.000000\n",
       "50%          2.000000\n",
       "75%          2.000000\n",
       "max          3.000000\n",
       "Name: balcony, dtype: float64"
      ]
     },
     "execution_count": 37,
     "metadata": {},
     "output_type": "execute_result"
    }
   ],
   "source": [
    "data.balcony.describe()"
   ]
  },
  {
   "cell_type": "markdown",
   "id": "e3f44390",
   "metadata": {},
   "source": [
    "**filling null data with its median**"
   ]
  },
  {
   "cell_type": "code",
   "execution_count": 38,
   "id": "1f4b78c5",
   "metadata": {},
   "outputs": [],
   "source": [
    "data.balcony.fillna(data.balcony.median(),inplace=True)"
   ]
  },
  {
   "cell_type": "markdown",
   "id": "ea33a98d",
   "metadata": {},
   "source": [
    "**Changing datatype to int**"
   ]
  },
  {
   "cell_type": "code",
   "execution_count": 39,
   "id": "ef542bae",
   "metadata": {},
   "outputs": [],
   "source": [
    "data['balcony']=data['balcony'].astype(int)"
   ]
  },
  {
   "cell_type": "code",
   "execution_count": 40,
   "id": "22e30418",
   "metadata": {},
   "outputs": [
    {
     "data": {
      "text/plain": [
       "area_type       0.0\n",
       "availability    0.0\n",
       "location        0.0\n",
       "size            0.0\n",
       "total_sqft      0.0\n",
       "bath            0.0\n",
       "balcony         0.0\n",
       "price           0.0\n",
       "dtype: float64"
      ]
     },
     "execution_count": 40,
     "metadata": {},
     "output_type": "execute_result"
    }
   ],
   "source": [
    "data.isnull().sum()/data.shape[0]*100"
   ]
  },
  {
   "cell_type": "code",
   "execution_count": 41,
   "id": "9aff186b",
   "metadata": {},
   "outputs": [
    {
     "data": {
      "text/plain": [
       "area_type        object\n",
       "availability     object\n",
       "location         object\n",
       "size              int32\n",
       "total_sqft      float64\n",
       "bath              int32\n",
       "balcony           int32\n",
       "price           float64\n",
       "dtype: object"
      ]
     },
     "execution_count": 41,
     "metadata": {},
     "output_type": "execute_result"
    }
   ],
   "source": [
    "data.dtypes"
   ]
  },
  {
   "cell_type": "markdown",
   "id": "d7655f6b",
   "metadata": {},
   "source": [
    "**Dropping `availability` as this column is no use for our model**"
   ]
  },
  {
   "cell_type": "code",
   "execution_count": 42,
   "id": "9571d390",
   "metadata": {},
   "outputs": [],
   "source": [
    "data.drop(['availability'],axis=1,inplace=True)"
   ]
  },
  {
   "cell_type": "code",
   "execution_count": null,
   "id": "c2f2d183",
   "metadata": {},
   "outputs": [],
   "source": []
  },
  {
   "cell_type": "markdown",
   "id": "6d586d29",
   "metadata": {},
   "source": [
    "## Advance Analysis"
   ]
  },
  {
   "cell_type": "markdown",
   "id": "374ef978",
   "metadata": {},
   "source": [
    "### Making a new columns `price_pre_sqft`"
   ]
  },
  {
   "cell_type": "code",
   "execution_count": 43,
   "id": "5b986e3e",
   "metadata": {},
   "outputs": [],
   "source": [
    "data['price_pre_sqft']=(data.price*100000)/data.total_sqft"
   ]
  },
  {
   "cell_type": "code",
   "execution_count": 44,
   "id": "885f3519",
   "metadata": {},
   "outputs": [
    {
     "data": {
      "text/html": [
       "<div>\n",
       "<style scoped>\n",
       "    .dataframe tbody tr th:only-of-type {\n",
       "        vertical-align: middle;\n",
       "    }\n",
       "\n",
       "    .dataframe tbody tr th {\n",
       "        vertical-align: top;\n",
       "    }\n",
       "\n",
       "    .dataframe thead th {\n",
       "        text-align: right;\n",
       "    }\n",
       "</style>\n",
       "<table border=\"1\" class=\"dataframe\">\n",
       "  <thead>\n",
       "    <tr style=\"text-align: right;\">\n",
       "      <th></th>\n",
       "      <th>area_type</th>\n",
       "      <th>location</th>\n",
       "      <th>size</th>\n",
       "      <th>total_sqft</th>\n",
       "      <th>bath</th>\n",
       "      <th>balcony</th>\n",
       "      <th>price</th>\n",
       "      <th>price_pre_sqft</th>\n",
       "    </tr>\n",
       "  </thead>\n",
       "  <tbody>\n",
       "    <tr>\n",
       "      <th>0</th>\n",
       "      <td>Super built-up  Area</td>\n",
       "      <td>Electronic City Phase II</td>\n",
       "      <td>2</td>\n",
       "      <td>1056.0</td>\n",
       "      <td>2</td>\n",
       "      <td>1</td>\n",
       "      <td>39.07</td>\n",
       "      <td>3699.810606</td>\n",
       "    </tr>\n",
       "    <tr>\n",
       "      <th>1</th>\n",
       "      <td>Plot  Area</td>\n",
       "      <td>Chikka Tirupathi</td>\n",
       "      <td>4</td>\n",
       "      <td>2600.0</td>\n",
       "      <td>5</td>\n",
       "      <td>3</td>\n",
       "      <td>120.00</td>\n",
       "      <td>4615.384615</td>\n",
       "    </tr>\n",
       "    <tr>\n",
       "      <th>2</th>\n",
       "      <td>Built-up  Area</td>\n",
       "      <td>Uttarahalli</td>\n",
       "      <td>3</td>\n",
       "      <td>1440.0</td>\n",
       "      <td>2</td>\n",
       "      <td>3</td>\n",
       "      <td>62.00</td>\n",
       "      <td>4305.555556</td>\n",
       "    </tr>\n",
       "    <tr>\n",
       "      <th>3</th>\n",
       "      <td>Super built-up  Area</td>\n",
       "      <td>Lingadheeranahalli</td>\n",
       "      <td>3</td>\n",
       "      <td>1521.0</td>\n",
       "      <td>3</td>\n",
       "      <td>1</td>\n",
       "      <td>95.00</td>\n",
       "      <td>6245.890861</td>\n",
       "    </tr>\n",
       "    <tr>\n",
       "      <th>4</th>\n",
       "      <td>Super built-up  Area</td>\n",
       "      <td>Kothanur</td>\n",
       "      <td>2</td>\n",
       "      <td>1200.0</td>\n",
       "      <td>2</td>\n",
       "      <td>1</td>\n",
       "      <td>51.00</td>\n",
       "      <td>4250.000000</td>\n",
       "    </tr>\n",
       "  </tbody>\n",
       "</table>\n",
       "</div>"
      ],
      "text/plain": [
       "              area_type                  location  size  total_sqft  bath  \\\n",
       "0  Super built-up  Area  Electronic City Phase II     2      1056.0     2   \n",
       "1            Plot  Area          Chikka Tirupathi     4      2600.0     5   \n",
       "2        Built-up  Area               Uttarahalli     3      1440.0     2   \n",
       "3  Super built-up  Area        Lingadheeranahalli     3      1521.0     3   \n",
       "4  Super built-up  Area                  Kothanur     2      1200.0     2   \n",
       "\n",
       "   balcony   price  price_pre_sqft  \n",
       "0        1   39.07     3699.810606  \n",
       "1        3  120.00     4615.384615  \n",
       "2        3   62.00     4305.555556  \n",
       "3        1   95.00     6245.890861  \n",
       "4        1   51.00     4250.000000  "
      ]
     },
     "execution_count": 44,
     "metadata": {},
     "output_type": "execute_result"
    }
   ],
   "source": [
    "data.head()"
   ]
  },
  {
   "cell_type": "markdown",
   "id": "7148f3ad",
   "metadata": {},
   "source": [
    "### Handling locations\n",
    "- locations which have value counts less than or equal to 20 will be replaced with `other`"
   ]
  },
  {
   "cell_type": "code",
   "execution_count": 45,
   "id": "b2a6e858",
   "metadata": {},
   "outputs": [],
   "source": [
    "loc_count=data.location.value_counts()"
   ]
  },
  {
   "cell_type": "code",
   "execution_count": 46,
   "id": "f580f473",
   "metadata": {},
   "outputs": [
    {
     "data": {
      "text/plain": [
       "HBR Layout                        20\n",
       "Poorna Pragna Layout              20\n",
       "Yelachenahalli                    20\n",
       "Sanjay nagar                      20\n",
       "Kalyan nagar                      19\n",
       "                                  ..\n",
       "Bapuji Layout                      1\n",
       "1st Stage Radha Krishna Layout     1\n",
       "BEML Layout 5th stage              1\n",
       "singapura paradise                 1\n",
       "Abshot Layout                      1\n",
       "Name: location, Length: 1161, dtype: int64"
      ]
     },
     "execution_count": 46,
     "metadata": {},
     "output_type": "execute_result"
    }
   ],
   "source": [
    "loc_count_20=loc_count[loc_count<=20]\n",
    "loc_count_20"
   ]
  },
  {
   "cell_type": "code",
   "execution_count": 47,
   "id": "ba0f02b5",
   "metadata": {},
   "outputs": [],
   "source": [
    "data['location']=data.location.apply(lambda x : 'other' if x in loc_count_20 else x.strip())"
   ]
  },
  {
   "cell_type": "code",
   "execution_count": 48,
   "id": "999341f7",
   "metadata": {},
   "outputs": [
    {
     "data": {
      "text/plain": [
       "other                 4299\n",
       "Whitefield             541\n",
       "Sarjapur  Road         399\n",
       "Electronic City        302\n",
       "Kanakpura Road         273\n",
       "                      ... \n",
       "Domlur                  22\n",
       "Hoskote                 22\n",
       "Binny Pete              21\n",
       "Basaveshwara Nagar      21\n",
       "Ulsoor                  21\n",
       "Name: location, Length: 145, dtype: int64"
      ]
     },
     "execution_count": 48,
     "metadata": {},
     "output_type": "execute_result"
    }
   ],
   "source": [
    "data.location.value_counts()"
   ]
  },
  {
   "cell_type": "markdown",
   "id": "959316a1",
   "metadata": {},
   "source": [
    "### Outliner detection and removal"
   ]
  },
  {
   "cell_type": "code",
   "execution_count": 49,
   "id": "878f1136",
   "metadata": {},
   "outputs": [
    {
     "data": {
      "text/html": [
       "<div>\n",
       "<style scoped>\n",
       "    .dataframe tbody tr th:only-of-type {\n",
       "        vertical-align: middle;\n",
       "    }\n",
       "\n",
       "    .dataframe tbody tr th {\n",
       "        vertical-align: top;\n",
       "    }\n",
       "\n",
       "    .dataframe thead th {\n",
       "        text-align: right;\n",
       "    }\n",
       "</style>\n",
       "<table border=\"1\" class=\"dataframe\">\n",
       "  <thead>\n",
       "    <tr style=\"text-align: right;\">\n",
       "      <th></th>\n",
       "      <th>size</th>\n",
       "      <th>total_sqft</th>\n",
       "      <th>bath</th>\n",
       "      <th>balcony</th>\n",
       "      <th>price</th>\n",
       "      <th>price_pre_sqft</th>\n",
       "    </tr>\n",
       "  </thead>\n",
       "  <tbody>\n",
       "    <tr>\n",
       "      <th>count</th>\n",
       "      <td>13320.000000</td>\n",
       "      <td>13320.000000</td>\n",
       "      <td>13320.000000</td>\n",
       "      <td>13320.000000</td>\n",
       "      <td>13320.000000</td>\n",
       "      <td>1.332000e+04</td>\n",
       "    </tr>\n",
       "    <tr>\n",
       "      <th>mean</th>\n",
       "      <td>2.803979</td>\n",
       "      <td>1558.647202</td>\n",
       "      <td>2.688814</td>\n",
       "      <td>1.603378</td>\n",
       "      <td>112.565627</td>\n",
       "      <td>7.919404e+03</td>\n",
       "    </tr>\n",
       "    <tr>\n",
       "      <th>std</th>\n",
       "      <td>1.294214</td>\n",
       "      <td>1236.376834</td>\n",
       "      <td>1.338754</td>\n",
       "      <td>0.803067</td>\n",
       "      <td>148.971674</td>\n",
       "      <td>1.062471e+05</td>\n",
       "    </tr>\n",
       "    <tr>\n",
       "      <th>min</th>\n",
       "      <td>1.000000</td>\n",
       "      <td>1.000000</td>\n",
       "      <td>1.000000</td>\n",
       "      <td>0.000000</td>\n",
       "      <td>8.000000</td>\n",
       "      <td>2.678298e+02</td>\n",
       "    </tr>\n",
       "    <tr>\n",
       "      <th>25%</th>\n",
       "      <td>2.000000</td>\n",
       "      <td>1100.000000</td>\n",
       "      <td>2.000000</td>\n",
       "      <td>1.000000</td>\n",
       "      <td>50.000000</td>\n",
       "      <td>4.266667e+03</td>\n",
       "    </tr>\n",
       "    <tr>\n",
       "      <th>50%</th>\n",
       "      <td>3.000000</td>\n",
       "      <td>1276.000000</td>\n",
       "      <td>2.000000</td>\n",
       "      <td>2.000000</td>\n",
       "      <td>72.000000</td>\n",
       "      <td>5.440000e+03</td>\n",
       "    </tr>\n",
       "    <tr>\n",
       "      <th>75%</th>\n",
       "      <td>3.000000</td>\n",
       "      <td>1678.000000</td>\n",
       "      <td>3.000000</td>\n",
       "      <td>2.000000</td>\n",
       "      <td>120.000000</td>\n",
       "      <td>7.328359e+03</td>\n",
       "    </tr>\n",
       "    <tr>\n",
       "      <th>max</th>\n",
       "      <td>43.000000</td>\n",
       "      <td>52272.000000</td>\n",
       "      <td>40.000000</td>\n",
       "      <td>3.000000</td>\n",
       "      <td>3600.000000</td>\n",
       "      <td>1.200000e+07</td>\n",
       "    </tr>\n",
       "  </tbody>\n",
       "</table>\n",
       "</div>"
      ],
      "text/plain": [
       "               size    total_sqft          bath       balcony         price  \\\n",
       "count  13320.000000  13320.000000  13320.000000  13320.000000  13320.000000   \n",
       "mean       2.803979   1558.647202      2.688814      1.603378    112.565627   \n",
       "std        1.294214   1236.376834      1.338754      0.803067    148.971674   \n",
       "min        1.000000      1.000000      1.000000      0.000000      8.000000   \n",
       "25%        2.000000   1100.000000      2.000000      1.000000     50.000000   \n",
       "50%        3.000000   1276.000000      2.000000      2.000000     72.000000   \n",
       "75%        3.000000   1678.000000      3.000000      2.000000    120.000000   \n",
       "max       43.000000  52272.000000     40.000000      3.000000   3600.000000   \n",
       "\n",
       "       price_pre_sqft  \n",
       "count    1.332000e+04  \n",
       "mean     7.919404e+03  \n",
       "std      1.062471e+05  \n",
       "min      2.678298e+02  \n",
       "25%      4.266667e+03  \n",
       "50%      5.440000e+03  \n",
       "75%      7.328359e+03  \n",
       "max      1.200000e+07  "
      ]
     },
     "execution_count": 49,
     "metadata": {},
     "output_type": "execute_result"
    }
   ],
   "source": [
    "data.describe()"
   ]
  },
  {
   "cell_type": "code",
   "execution_count": 50,
   "id": "d86418f7",
   "metadata": {},
   "outputs": [],
   "source": [
    "data.rename(columns={'size':'bhk'},inplace=True)"
   ]
  },
  {
   "cell_type": "code",
   "execution_count": 51,
   "id": "9230c80e",
   "metadata": {},
   "outputs": [
    {
     "data": {
      "text/html": [
       "<div>\n",
       "<style scoped>\n",
       "    .dataframe tbody tr th:only-of-type {\n",
       "        vertical-align: middle;\n",
       "    }\n",
       "\n",
       "    .dataframe tbody tr th {\n",
       "        vertical-align: top;\n",
       "    }\n",
       "\n",
       "    .dataframe thead th {\n",
       "        text-align: right;\n",
       "    }\n",
       "</style>\n",
       "<table border=\"1\" class=\"dataframe\">\n",
       "  <thead>\n",
       "    <tr style=\"text-align: right;\">\n",
       "      <th></th>\n",
       "      <th>area_type</th>\n",
       "      <th>location</th>\n",
       "      <th>bhk</th>\n",
       "      <th>total_sqft</th>\n",
       "      <th>bath</th>\n",
       "      <th>balcony</th>\n",
       "      <th>price</th>\n",
       "      <th>price_pre_sqft</th>\n",
       "    </tr>\n",
       "  </thead>\n",
       "  <tbody>\n",
       "    <tr>\n",
       "      <th>0</th>\n",
       "      <td>Super built-up  Area</td>\n",
       "      <td>Electronic City Phase II</td>\n",
       "      <td>2</td>\n",
       "      <td>1056.0</td>\n",
       "      <td>2</td>\n",
       "      <td>1</td>\n",
       "      <td>39.07</td>\n",
       "      <td>3699.810606</td>\n",
       "    </tr>\n",
       "    <tr>\n",
       "      <th>1</th>\n",
       "      <td>Plot  Area</td>\n",
       "      <td>other</td>\n",
       "      <td>4</td>\n",
       "      <td>2600.0</td>\n",
       "      <td>5</td>\n",
       "      <td>3</td>\n",
       "      <td>120.00</td>\n",
       "      <td>4615.384615</td>\n",
       "    </tr>\n",
       "    <tr>\n",
       "      <th>2</th>\n",
       "      <td>Built-up  Area</td>\n",
       "      <td>Uttarahalli</td>\n",
       "      <td>3</td>\n",
       "      <td>1440.0</td>\n",
       "      <td>2</td>\n",
       "      <td>3</td>\n",
       "      <td>62.00</td>\n",
       "      <td>4305.555556</td>\n",
       "    </tr>\n",
       "    <tr>\n",
       "      <th>3</th>\n",
       "      <td>Super built-up  Area</td>\n",
       "      <td>Lingadheeranahalli</td>\n",
       "      <td>3</td>\n",
       "      <td>1521.0</td>\n",
       "      <td>3</td>\n",
       "      <td>1</td>\n",
       "      <td>95.00</td>\n",
       "      <td>6245.890861</td>\n",
       "    </tr>\n",
       "    <tr>\n",
       "      <th>4</th>\n",
       "      <td>Super built-up  Area</td>\n",
       "      <td>Kothanur</td>\n",
       "      <td>2</td>\n",
       "      <td>1200.0</td>\n",
       "      <td>2</td>\n",
       "      <td>1</td>\n",
       "      <td>51.00</td>\n",
       "      <td>4250.000000</td>\n",
       "    </tr>\n",
       "    <tr>\n",
       "      <th>...</th>\n",
       "      <td>...</td>\n",
       "      <td>...</td>\n",
       "      <td>...</td>\n",
       "      <td>...</td>\n",
       "      <td>...</td>\n",
       "      <td>...</td>\n",
       "      <td>...</td>\n",
       "      <td>...</td>\n",
       "    </tr>\n",
       "    <tr>\n",
       "      <th>13315</th>\n",
       "      <td>Built-up  Area</td>\n",
       "      <td>Whitefield</td>\n",
       "      <td>5</td>\n",
       "      <td>3453.0</td>\n",
       "      <td>4</td>\n",
       "      <td>0</td>\n",
       "      <td>231.00</td>\n",
       "      <td>6689.834926</td>\n",
       "    </tr>\n",
       "    <tr>\n",
       "      <th>13316</th>\n",
       "      <td>Super built-up  Area</td>\n",
       "      <td>other</td>\n",
       "      <td>4</td>\n",
       "      <td>3600.0</td>\n",
       "      <td>5</td>\n",
       "      <td>2</td>\n",
       "      <td>400.00</td>\n",
       "      <td>11111.111111</td>\n",
       "    </tr>\n",
       "    <tr>\n",
       "      <th>13317</th>\n",
       "      <td>Built-up  Area</td>\n",
       "      <td>Raja Rajeshwari Nagar</td>\n",
       "      <td>2</td>\n",
       "      <td>1141.0</td>\n",
       "      <td>2</td>\n",
       "      <td>1</td>\n",
       "      <td>60.00</td>\n",
       "      <td>5258.545136</td>\n",
       "    </tr>\n",
       "    <tr>\n",
       "      <th>13318</th>\n",
       "      <td>Super built-up  Area</td>\n",
       "      <td>Padmanabhanagar</td>\n",
       "      <td>4</td>\n",
       "      <td>4689.0</td>\n",
       "      <td>4</td>\n",
       "      <td>1</td>\n",
       "      <td>488.00</td>\n",
       "      <td>10407.336319</td>\n",
       "    </tr>\n",
       "    <tr>\n",
       "      <th>13319</th>\n",
       "      <td>Super built-up  Area</td>\n",
       "      <td>Doddathoguru</td>\n",
       "      <td>1</td>\n",
       "      <td>550.0</td>\n",
       "      <td>1</td>\n",
       "      <td>1</td>\n",
       "      <td>17.00</td>\n",
       "      <td>3090.909091</td>\n",
       "    </tr>\n",
       "  </tbody>\n",
       "</table>\n",
       "<p>13320 rows × 8 columns</p>\n",
       "</div>"
      ],
      "text/plain": [
       "                  area_type                  location  bhk  total_sqft  bath  \\\n",
       "0      Super built-up  Area  Electronic City Phase II    2      1056.0     2   \n",
       "1                Plot  Area                     other    4      2600.0     5   \n",
       "2            Built-up  Area               Uttarahalli    3      1440.0     2   \n",
       "3      Super built-up  Area        Lingadheeranahalli    3      1521.0     3   \n",
       "4      Super built-up  Area                  Kothanur    2      1200.0     2   \n",
       "...                     ...                       ...  ...         ...   ...   \n",
       "13315        Built-up  Area                Whitefield    5      3453.0     4   \n",
       "13316  Super built-up  Area                     other    4      3600.0     5   \n",
       "13317        Built-up  Area     Raja Rajeshwari Nagar    2      1141.0     2   \n",
       "13318  Super built-up  Area           Padmanabhanagar    4      4689.0     4   \n",
       "13319  Super built-up  Area              Doddathoguru    1       550.0     1   \n",
       "\n",
       "       balcony   price  price_pre_sqft  \n",
       "0            1   39.07     3699.810606  \n",
       "1            3  120.00     4615.384615  \n",
       "2            3   62.00     4305.555556  \n",
       "3            1   95.00     6245.890861  \n",
       "4            1   51.00     4250.000000  \n",
       "...        ...     ...             ...  \n",
       "13315        0  231.00     6689.834926  \n",
       "13316        2  400.00    11111.111111  \n",
       "13317        1   60.00     5258.545136  \n",
       "13318        1  488.00    10407.336319  \n",
       "13319        1   17.00     3090.909091  \n",
       "\n",
       "[13320 rows x 8 columns]"
      ]
     },
     "execution_count": 51,
     "metadata": {},
     "output_type": "execute_result"
    }
   ],
   "source": [
    "data"
   ]
  },
  {
   "cell_type": "code",
   "execution_count": 52,
   "id": "d2953fdb",
   "metadata": {},
   "outputs": [
    {
     "data": {
      "text/html": [
       "<div>\n",
       "<style scoped>\n",
       "    .dataframe tbody tr th:only-of-type {\n",
       "        vertical-align: middle;\n",
       "    }\n",
       "\n",
       "    .dataframe tbody tr th {\n",
       "        vertical-align: top;\n",
       "    }\n",
       "\n",
       "    .dataframe thead th {\n",
       "        text-align: right;\n",
       "    }\n",
       "</style>\n",
       "<table border=\"1\" class=\"dataframe\">\n",
       "  <thead>\n",
       "    <tr style=\"text-align: right;\">\n",
       "      <th></th>\n",
       "      <th>bhk</th>\n",
       "      <th>total_sqft</th>\n",
       "      <th>bath</th>\n",
       "      <th>balcony</th>\n",
       "      <th>price</th>\n",
       "      <th>price_pre_sqft</th>\n",
       "    </tr>\n",
       "  </thead>\n",
       "  <tbody>\n",
       "    <tr>\n",
       "      <th>count</th>\n",
       "      <td>13320.000000</td>\n",
       "      <td>13320.000000</td>\n",
       "      <td>13320.000000</td>\n",
       "      <td>13320.000000</td>\n",
       "      <td>13320.000000</td>\n",
       "      <td>1.332000e+04</td>\n",
       "    </tr>\n",
       "    <tr>\n",
       "      <th>mean</th>\n",
       "      <td>2.803979</td>\n",
       "      <td>1558.647202</td>\n",
       "      <td>2.688814</td>\n",
       "      <td>1.603378</td>\n",
       "      <td>112.565627</td>\n",
       "      <td>7.919404e+03</td>\n",
       "    </tr>\n",
       "    <tr>\n",
       "      <th>std</th>\n",
       "      <td>1.294214</td>\n",
       "      <td>1236.376834</td>\n",
       "      <td>1.338754</td>\n",
       "      <td>0.803067</td>\n",
       "      <td>148.971674</td>\n",
       "      <td>1.062471e+05</td>\n",
       "    </tr>\n",
       "    <tr>\n",
       "      <th>min</th>\n",
       "      <td>1.000000</td>\n",
       "      <td>1.000000</td>\n",
       "      <td>1.000000</td>\n",
       "      <td>0.000000</td>\n",
       "      <td>8.000000</td>\n",
       "      <td>2.678298e+02</td>\n",
       "    </tr>\n",
       "    <tr>\n",
       "      <th>25%</th>\n",
       "      <td>2.000000</td>\n",
       "      <td>1100.000000</td>\n",
       "      <td>2.000000</td>\n",
       "      <td>1.000000</td>\n",
       "      <td>50.000000</td>\n",
       "      <td>4.266667e+03</td>\n",
       "    </tr>\n",
       "    <tr>\n",
       "      <th>50%</th>\n",
       "      <td>3.000000</td>\n",
       "      <td>1276.000000</td>\n",
       "      <td>2.000000</td>\n",
       "      <td>2.000000</td>\n",
       "      <td>72.000000</td>\n",
       "      <td>5.440000e+03</td>\n",
       "    </tr>\n",
       "    <tr>\n",
       "      <th>75%</th>\n",
       "      <td>3.000000</td>\n",
       "      <td>1678.000000</td>\n",
       "      <td>3.000000</td>\n",
       "      <td>2.000000</td>\n",
       "      <td>120.000000</td>\n",
       "      <td>7.328359e+03</td>\n",
       "    </tr>\n",
       "    <tr>\n",
       "      <th>max</th>\n",
       "      <td>43.000000</td>\n",
       "      <td>52272.000000</td>\n",
       "      <td>40.000000</td>\n",
       "      <td>3.000000</td>\n",
       "      <td>3600.000000</td>\n",
       "      <td>1.200000e+07</td>\n",
       "    </tr>\n",
       "  </tbody>\n",
       "</table>\n",
       "</div>"
      ],
      "text/plain": [
       "                bhk    total_sqft          bath       balcony         price  \\\n",
       "count  13320.000000  13320.000000  13320.000000  13320.000000  13320.000000   \n",
       "mean       2.803979   1558.647202      2.688814      1.603378    112.565627   \n",
       "std        1.294214   1236.376834      1.338754      0.803067    148.971674   \n",
       "min        1.000000      1.000000      1.000000      0.000000      8.000000   \n",
       "25%        2.000000   1100.000000      2.000000      1.000000     50.000000   \n",
       "50%        3.000000   1276.000000      2.000000      2.000000     72.000000   \n",
       "75%        3.000000   1678.000000      3.000000      2.000000    120.000000   \n",
       "max       43.000000  52272.000000     40.000000      3.000000   3600.000000   \n",
       "\n",
       "       price_pre_sqft  \n",
       "count    1.332000e+04  \n",
       "mean     7.919404e+03  \n",
       "std      1.062471e+05  \n",
       "min      2.678298e+02  \n",
       "25%      4.266667e+03  \n",
       "50%      5.440000e+03  \n",
       "75%      7.328359e+03  \n",
       "max      1.200000e+07  "
      ]
     },
     "execution_count": 52,
     "metadata": {},
     "output_type": "execute_result"
    }
   ],
   "source": [
    "data.describe()"
   ]
  },
  {
   "cell_type": "code",
   "execution_count": 53,
   "id": "a00f7e45",
   "metadata": {},
   "outputs": [
    {
     "data": {
      "image/png": "[encoded data removed]",
      "text/plain": [
       "<Figure size 640x480 with 1 Axes>"
      ]
     },
     "metadata": {},
     "output_type": "display_data"
    }
   ],
   "source": [
    "data.total_sqft.plot.box()\n",
    "plt.show()"
   ]
  },
  {
   "cell_type": "code",
   "execution_count": 54,
   "id": "573f7a75",
   "metadata": {},
   "outputs": [
    {
     "data": {
      "text/plain": [
       "count    13320.000000\n",
       "mean       574.675341\n",
       "std        387.502846\n",
       "min          0.250000\n",
       "25%        473.000000\n",
       "50%        552.000000\n",
       "75%        625.000000\n",
       "max      26136.000000\n",
       "dtype: float64"
      ]
     },
     "execution_count": 54,
     "metadata": {},
     "output_type": "execute_result"
    }
   ],
   "source": [
    "(data.total_sqft/data.bhk).describe()"
   ]
  },
  {
   "cell_type": "markdown",
   "id": "a695eb7d",
   "metadata": {},
   "source": [
    "keeping the data which have `400 or greater` sqft per room"
   ]
  },
  {
   "cell_type": "code",
   "execution_count": 55,
   "id": "9937b391",
   "metadata": {},
   "outputs": [],
   "source": [
    "data=data[(data.total_sqft/data.bhk)>=400]"
   ]
  },
  {
   "cell_type": "code",
   "execution_count": 56,
   "id": "0db6343c",
   "metadata": {},
   "outputs": [
    {
     "data": {
      "image/png": "[encoded data removed]",
      "text/plain": [
       "<Figure size 640x480 with 1 Axes>"
      ]
     },
     "metadata": {},
     "output_type": "display_data"
    }
   ],
   "source": [
    "data.total_sqft.plot.box()\n",
    "plt.show()"
   ]
  },
  {
   "cell_type": "code",
   "execution_count": 57,
   "id": "00af7721",
   "metadata": {},
   "outputs": [],
   "source": [
    "def remove_outliner_sqft(df):\n",
    "    df_out=pd.DataFrame()\n",
    "    for k,subdf in df.groupby('location'):\n",
    "        m=subdf.price_pre_sqft.mean()\n",
    "        std=subdf.price_pre_sqft.std()\n",
    "        \n",
    "        new_df=subdf[(subdf.price_pre_sqft >=(m-std)) & (subdf.price_pre_sqft<=(m+std))]\n",
    "        df_out=pd.concat([df_out,new_df],ignore_index=True)\n",
    "    return df_out\n",
    "\n",
    "data=remove_outliner_sqft(data)"
   ]
  },
  {
   "cell_type": "code",
   "execution_count": 58,
   "id": "3223f8a2",
   "metadata": {},
   "outputs": [],
   "source": [
    "def remove_outliner_bhk(df):\n",
    "    out_idx=np.array([])\n",
    "    for loc,loc_df in df.groupby('location'):\n",
    "        bhk_stats={}\n",
    "        for bhk,bhk_df in loc_df.groupby('bhk'):\n",
    "            bhk_stats[bhk]={\n",
    "                'mean':bhk_df.price_pre_sqft.mean(),\n",
    "                'std':bhk_df.price_pre_sqft.std(),\n",
    "                'count':bhk_df.shape[0]\n",
    "                     \n",
    "            }\n",
    "            \n",
    "        for bhk,bhk_df in loc_df.groupby('bhk'):\n",
    "            stats=bhk_stats.get(bhk-1)\n",
    "            if stats and stats['count']>5:\n",
    "                out_idx=np.append(out_idx,bhk_df[bhk_df.price_pre_sqft<(stats['mean'])].index.values)\n",
    "    return df.drop(out_idx,axis='index')"
   ]
  },
  {
   "cell_type": "code",
   "execution_count": 59,
   "id": "69fc7738",
   "metadata": {
    "scrolled": false
   },
   "outputs": [
    {
     "data": {
      "text/html": [
       "<div>\n",
       "<style scoped>\n",
       "    .dataframe tbody tr th:only-of-type {\n",
       "        vertical-align: middle;\n",
       "    }\n",
       "\n",
       "    .dataframe tbody tr th {\n",
       "        vertical-align: top;\n",
       "    }\n",
       "\n",
       "    .dataframe thead th {\n",
       "        text-align: right;\n",
       "    }\n",
       "</style>\n",
       "<table border=\"1\" class=\"dataframe\">\n",
       "  <thead>\n",
       "    <tr style=\"text-align: right;\">\n",
       "      <th></th>\n",
       "      <th>area_type</th>\n",
       "      <th>location</th>\n",
       "      <th>bhk</th>\n",
       "      <th>total_sqft</th>\n",
       "      <th>bath</th>\n",
       "      <th>balcony</th>\n",
       "      <th>price</th>\n",
       "      <th>price_pre_sqft</th>\n",
       "    </tr>\n",
       "  </thead>\n",
       "  <tbody>\n",
       "    <tr>\n",
       "      <th>1</th>\n",
       "      <td>Super built-up  Area</td>\n",
       "      <td>1st Phase JP Nagar</td>\n",
       "      <td>3</td>\n",
       "      <td>1875.0</td>\n",
       "      <td>3</td>\n",
       "      <td>1</td>\n",
       "      <td>167.0</td>\n",
       "      <td>8906.666667</td>\n",
       "    </tr>\n",
       "    <tr>\n",
       "      <th>2</th>\n",
       "      <td>Super built-up  Area</td>\n",
       "      <td>1st Phase JP Nagar</td>\n",
       "      <td>3</td>\n",
       "      <td>2065.0</td>\n",
       "      <td>4</td>\n",
       "      <td>1</td>\n",
       "      <td>210.0</td>\n",
       "      <td>10169.491525</td>\n",
       "    </tr>\n",
       "    <tr>\n",
       "      <th>4</th>\n",
       "      <td>Super built-up  Area</td>\n",
       "      <td>1st Phase JP Nagar</td>\n",
       "      <td>3</td>\n",
       "      <td>2059.0</td>\n",
       "      <td>3</td>\n",
       "      <td>2</td>\n",
       "      <td>225.0</td>\n",
       "      <td>10927.634774</td>\n",
       "    </tr>\n",
       "    <tr>\n",
       "      <th>5</th>\n",
       "      <td>Super built-up  Area</td>\n",
       "      <td>1st Phase JP Nagar</td>\n",
       "      <td>2</td>\n",
       "      <td>1394.0</td>\n",
       "      <td>2</td>\n",
       "      <td>1</td>\n",
       "      <td>100.0</td>\n",
       "      <td>7173.601148</td>\n",
       "    </tr>\n",
       "    <tr>\n",
       "      <th>6</th>\n",
       "      <td>Super built-up  Area</td>\n",
       "      <td>1st Phase JP Nagar</td>\n",
       "      <td>2</td>\n",
       "      <td>1077.0</td>\n",
       "      <td>2</td>\n",
       "      <td>2</td>\n",
       "      <td>93.0</td>\n",
       "      <td>8635.097493</td>\n",
       "    </tr>\n",
       "    <tr>\n",
       "      <th>...</th>\n",
       "      <td>...</td>\n",
       "      <td>...</td>\n",
       "      <td>...</td>\n",
       "      <td>...</td>\n",
       "      <td>...</td>\n",
       "      <td>...</td>\n",
       "      <td>...</td>\n",
       "      <td>...</td>\n",
       "    </tr>\n",
       "    <tr>\n",
       "      <th>9808</th>\n",
       "      <td>Plot  Area</td>\n",
       "      <td>other</td>\n",
       "      <td>1</td>\n",
       "      <td>812.0</td>\n",
       "      <td>1</td>\n",
       "      <td>0</td>\n",
       "      <td>26.0</td>\n",
       "      <td>3201.970443</td>\n",
       "    </tr>\n",
       "    <tr>\n",
       "      <th>9811</th>\n",
       "      <td>Super built-up  Area</td>\n",
       "      <td>other</td>\n",
       "      <td>2</td>\n",
       "      <td>1200.0</td>\n",
       "      <td>2</td>\n",
       "      <td>2</td>\n",
       "      <td>140.0</td>\n",
       "      <td>11666.666667</td>\n",
       "    </tr>\n",
       "    <tr>\n",
       "      <th>9812</th>\n",
       "      <td>Super built-up  Area</td>\n",
       "      <td>other</td>\n",
       "      <td>2</td>\n",
       "      <td>1015.0</td>\n",
       "      <td>2</td>\n",
       "      <td>2</td>\n",
       "      <td>60.0</td>\n",
       "      <td>5911.330049</td>\n",
       "    </tr>\n",
       "    <tr>\n",
       "      <th>9814</th>\n",
       "      <td>Built-up  Area</td>\n",
       "      <td>other</td>\n",
       "      <td>3</td>\n",
       "      <td>1805.0</td>\n",
       "      <td>3</td>\n",
       "      <td>3</td>\n",
       "      <td>134.0</td>\n",
       "      <td>7423.822715</td>\n",
       "    </tr>\n",
       "    <tr>\n",
       "      <th>9815</th>\n",
       "      <td>Super built-up  Area</td>\n",
       "      <td>other</td>\n",
       "      <td>4</td>\n",
       "      <td>3600.0</td>\n",
       "      <td>5</td>\n",
       "      <td>2</td>\n",
       "      <td>400.0</td>\n",
       "      <td>11111.111111</td>\n",
       "    </tr>\n",
       "  </tbody>\n",
       "</table>\n",
       "<p>6603 rows × 8 columns</p>\n",
       "</div>"
      ],
      "text/plain": [
       "                 area_type            location  bhk  total_sqft  bath  \\\n",
       "1     Super built-up  Area  1st Phase JP Nagar    3      1875.0     3   \n",
       "2     Super built-up  Area  1st Phase JP Nagar    3      2065.0     4   \n",
       "4     Super built-up  Area  1st Phase JP Nagar    3      2059.0     3   \n",
       "5     Super built-up  Area  1st Phase JP Nagar    2      1394.0     2   \n",
       "6     Super built-up  Area  1st Phase JP Nagar    2      1077.0     2   \n",
       "...                    ...                 ...  ...         ...   ...   \n",
       "9808            Plot  Area               other    1       812.0     1   \n",
       "9811  Super built-up  Area               other    2      1200.0     2   \n",
       "9812  Super built-up  Area               other    2      1015.0     2   \n",
       "9814        Built-up  Area               other    3      1805.0     3   \n",
       "9815  Super built-up  Area               other    4      3600.0     5   \n",
       "\n",
       "      balcony  price  price_pre_sqft  \n",
       "1           1  167.0     8906.666667  \n",
       "2           1  210.0    10169.491525  \n",
       "4           2  225.0    10927.634774  \n",
       "5           1  100.0     7173.601148  \n",
       "6           2   93.0     8635.097493  \n",
       "...       ...    ...             ...  \n",
       "9808        0   26.0     3201.970443  \n",
       "9811        2  140.0    11666.666667  \n",
       "9812        2   60.0     5911.330049  \n",
       "9814        3  134.0     7423.822715  \n",
       "9815        2  400.0    11111.111111  \n",
       "\n",
       "[6603 rows x 8 columns]"
      ]
     },
     "execution_count": 59,
     "metadata": {},
     "output_type": "execute_result"
    }
   ],
   "source": [
    "remove_outliner_bhk(data)"
   ]
  },
  {
   "cell_type": "code",
   "execution_count": 60,
   "id": "e4dc54b2",
   "metadata": {},
   "outputs": [],
   "source": [
    "data.drop(data[data.bath>data.bhk+2].index,inplace=True)"
   ]
  },
  {
   "cell_type": "code",
   "execution_count": 61,
   "id": "ba8843da",
   "metadata": {},
   "outputs": [],
   "source": [
    "data.drop(['area_type','balcony','price_pre_sqft'],axis=1,inplace=True)"
   ]
  },
  {
   "cell_type": "code",
   "execution_count": 62,
   "id": "c829a027",
   "metadata": {},
   "outputs": [],
   "source": [
    "# Final dataset\n",
    "data.to_csv('final_data.csv')"
   ]
  },
  {
   "cell_type": "markdown",
   "id": "9c03d00b",
   "metadata": {},
   "source": [
    "## Data Preprocessing"
   ]
  },
  {
   "cell_type": "code",
   "execution_count": 63,
   "id": "40945804",
   "metadata": {},
   "outputs": [
    {
     "data": {
      "text/plain": [
       "other                   3212\n",
       "Whitefield               479\n",
       "Sarjapur  Road           286\n",
       "Electronic City          254\n",
       "Yelahanka                168\n",
       "                        ... \n",
       "Hoskote                   11\n",
       "Magadi Road               10\n",
       "Basaveshwara Nagar        10\n",
       "Bisuvanahalli              9\n",
       "2nd Stage Nagarbhavi       3\n",
       "Name: location, Length: 145, dtype: int64"
      ]
     },
     "execution_count": 63,
     "metadata": {},
     "output_type": "execute_result"
    }
   ],
   "source": [
    "data.location.value_counts()"
   ]
  },
  {
   "cell_type": "markdown",
   "id": "fcb19688",
   "metadata": {},
   "source": [
    "## Model making"
   ]
  },
  {
   "cell_type": "code",
   "execution_count": 65,
   "id": "ca047e65",
   "metadata": {},
   "outputs": [
    {
     "data": {
      "text/html": [
       "<div>\n",
       "<style scoped>\n",
       "    .dataframe tbody tr th:only-of-type {\n",
       "        vertical-align: middle;\n",
       "    }\n",
       "\n",
       "    .dataframe tbody tr th {\n",
       "        vertical-align: top;\n",
       "    }\n",
       "\n",
       "    .dataframe thead th {\n",
       "        text-align: right;\n",
       "    }\n",
       "</style>\n",
       "<table border=\"1\" class=\"dataframe\">\n",
       "  <thead>\n",
       "    <tr style=\"text-align: right;\">\n",
       "      <th></th>\n",
       "      <th>location</th>\n",
       "      <th>bhk</th>\n",
       "      <th>total_sqft</th>\n",
       "      <th>bath</th>\n",
       "      <th>price</th>\n",
       "    </tr>\n",
       "  </thead>\n",
       "  <tbody>\n",
       "    <tr>\n",
       "      <th>0</th>\n",
       "      <td>1st Phase JP Nagar</td>\n",
       "      <td>4</td>\n",
       "      <td>2825.0</td>\n",
       "      <td>4</td>\n",
       "      <td>250.0</td>\n",
       "    </tr>\n",
       "    <tr>\n",
       "      <th>1</th>\n",
       "      <td>1st Phase JP Nagar</td>\n",
       "      <td>3</td>\n",
       "      <td>1875.0</td>\n",
       "      <td>3</td>\n",
       "      <td>167.0</td>\n",
       "    </tr>\n",
       "    <tr>\n",
       "      <th>2</th>\n",
       "      <td>1st Phase JP Nagar</td>\n",
       "      <td>3</td>\n",
       "      <td>2065.0</td>\n",
       "      <td>4</td>\n",
       "      <td>210.0</td>\n",
       "    </tr>\n",
       "    <tr>\n",
       "      <th>3</th>\n",
       "      <td>1st Phase JP Nagar</td>\n",
       "      <td>3</td>\n",
       "      <td>2024.0</td>\n",
       "      <td>3</td>\n",
       "      <td>157.0</td>\n",
       "    </tr>\n",
       "    <tr>\n",
       "      <th>4</th>\n",
       "      <td>1st Phase JP Nagar</td>\n",
       "      <td>3</td>\n",
       "      <td>2059.0</td>\n",
       "      <td>3</td>\n",
       "      <td>225.0</td>\n",
       "    </tr>\n",
       "  </tbody>\n",
       "</table>\n",
       "</div>"
      ],
      "text/plain": [
       "             location  bhk  total_sqft  bath  price\n",
       "0  1st Phase JP Nagar    4      2825.0     4  250.0\n",
       "1  1st Phase JP Nagar    3      1875.0     3  167.0\n",
       "2  1st Phase JP Nagar    3      2065.0     4  210.0\n",
       "3  1st Phase JP Nagar    3      2024.0     3  157.0\n",
       "4  1st Phase JP Nagar    3      2059.0     3  225.0"
      ]
     },
     "execution_count": 65,
     "metadata": {},
     "output_type": "execute_result"
    }
   ],
   "source": [
    "data.head()"
   ]
  },
  {
   "cell_type": "code",
   "execution_count": 75,
   "id": "d95c922e",
   "metadata": {},
   "outputs": [],
   "source": [
    "from sklearn.model_selection import train_test_split\n",
    "from sklearn.linear_model import LinearRegression\n",
    "from sklearn.compose import make_column_transformer\n",
    "from sklearn.preprocessing import OneHotEncoder, StandardScaler\n",
    "from sklearn.pipeline import make_pipeline\n",
    "from sklearn.metrics import r2_score"
   ]
  },
  {
   "cell_type": "code",
   "execution_count": 70,
   "id": "b935a6bc",
   "metadata": {},
   "outputs": [],
   "source": [
    "X=data.drop(['price'],axis=1)\n",
    "y=data.price"
   ]
  },
  {
   "cell_type": "code",
   "execution_count": 71,
   "id": "0e45029d",
   "metadata": {},
   "outputs": [],
   "source": [
    " X_train, X_test, y_train, y_test = train_test_split(X, y, test_size=0.30, random_state=42)"
   ]
  },
  {
   "cell_type": "code",
   "execution_count": 72,
   "id": "93e0dadf",
   "metadata": {},
   "outputs": [
    {
     "data": {
      "text/plain": [
       "((6868, 4), (6868,))"
      ]
     },
     "execution_count": 72,
     "metadata": {},
     "output_type": "execute_result"
    }
   ],
   "source": [
    "X_train.shape,y_train.shape"
   ]
  },
  {
   "cell_type": "code",
   "execution_count": 73,
   "id": "71e3201f",
   "metadata": {},
   "outputs": [],
   "source": [
    "column_trans=make_column_transformer((OneHotEncoder(sparse=False),['location']),remainder='passthrough')"
   ]
  },
  {
   "cell_type": "code",
   "execution_count": 74,
   "id": "99f7bb00",
   "metadata": {},
   "outputs": [],
   "source": [
    "scaler=StandardScaler()"
   ]
  },
  {
   "cell_type": "code",
   "execution_count": 76,
   "id": "60bb1224",
   "metadata": {},
   "outputs": [],
   "source": [
    "lm=LinearRegression(normalize=True)"
   ]
  },
  {
   "cell_type": "code",
   "execution_count": 77,
   "id": "4c94d87d",
   "metadata": {},
   "outputs": [
    {
     "name": "stderr",
     "output_type": "stream",
     "text": [
      "C:\\Users\\dell\\.conda\\envs\\gputest\\lib\\site-packages\\sklearn\\linear_model\\_base.py:145: FutureWarning: 'normalize' was deprecated in version 1.0 and will be removed in 1.2.\n",
      "If you wish to scale the data, use Pipeline with a StandardScaler in a preprocessing stage. To reproduce the previous behavior:\n",
      "\n",
      "from sklearn.pipeline import make_pipeline\n",
      "\n",
      "model = make_pipeline(StandardScaler(with_mean=False), LinearRegression())\n",
      "\n",
      "If you wish to pass a sample_weight parameter, you need to pass it as a fit parameter to each step of the pipeline as follows:\n",
      "\n",
      "kwargs = {s[0] + '__sample_weight': sample_weight for s in model.steps}\n",
      "model.fit(X, y, **kwargs)\n",
      "\n",
      "\n",
      "  FutureWarning,\n"
     ]
    },
    {
     "data": {
      "text/plain": [
       "Pipeline(steps=[('columntransformer',\n",
       "                 ColumnTransformer(remainder='passthrough',\n",
       "                                   transformers=[('onehotencoder',\n",
       "                                                  OneHotEncoder(sparse=False),\n",
       "                                                  ['location'])])),\n",
       "                ('standardscaler', StandardScaler()),\n",
       "                ('linearregression', LinearRegression(normalize=True))])"
      ]
     },
     "execution_count": 77,
     "metadata": {},
     "output_type": "execute_result"
    }
   ],
   "source": [
    "pipe= make_pipeline(column_trans,scaler,lm)\n",
    "pipe.fit(X_train,y_train)"
   ]
  },
  {
   "cell_type": "markdown",
   "id": "e8de02e1",
   "metadata": {},
   "source": [
    "## Model Evaluation"
   ]
  },
  {
   "cell_type": "code",
   "execution_count": 78,
   "id": "be26c38f",
   "metadata": {},
   "outputs": [
    {
     "data": {
      "text/plain": [
       "0.749262015510307"
      ]
     },
     "execution_count": 78,
     "metadata": {},
     "output_type": "execute_result"
    }
   ],
   "source": [
    "r2_score(pipe.predict(X_train),y_train)"
   ]
  },
  {
   "cell_type": "code",
   "execution_count": 79,
   "id": "f6d1892e",
   "metadata": {},
   "outputs": [],
   "source": [
    "pred=pipe.predict(X_test)"
   ]
  },
  {
   "cell_type": "code",
   "execution_count": 80,
   "id": "c79642df",
   "metadata": {},
   "outputs": [
    {
     "data": {
      "text/plain": [
       "0.7907321890821397"
      ]
     },
     "execution_count": 80,
     "metadata": {},
     "output_type": "execute_result"
    }
   ],
   "source": [
    "r2_score(pred,y_test)"
   ]
  },
  {
   "cell_type": "code",
   "execution_count": 81,
   "id": "5b2b322b",
   "metadata": {},
   "outputs": [
    {
     "data": {
      "text/plain": [
       "0.7994761815662617"
      ]
     },
     "execution_count": 81,
     "metadata": {},
     "output_type": "execute_result"
    }
   ],
   "source": [
    "pipe.score(X_train,y_train)"
   ]
  },
  {
   "cell_type": "code",
   "execution_count": 82,
   "id": "3cde8a71",
   "metadata": {},
   "outputs": [
    {
     "data": {
      "text/plain": [
       "0.8039823455795961"
      ]
     },
     "execution_count": 82,
     "metadata": {},
     "output_type": "execute_result"
    }
   ],
   "source": [
    "pipe.score(X_test,y_test)"
   ]
  },
  {
   "cell_type": "code",
   "execution_count": 76,
   "id": "d81464c2",
   "metadata": {},
   "outputs": [],
   "source": [
    "def predict_price(location,sqft,bath,bhk):    \n",
    "    loc_index = np.where(X.columns==location)[0][0]\n",
    "\n",
    "    x = np.zeros(len(X.columns))\n",
    "    x[0] = bhk\n",
    "    x[1] = sqft\n",
    "    x[2] = bath\n",
    "    print(loc_index)\n",
    "    if loc_index >= 0:\n",
    "        x[loc_index] = 1\n",
    "\n",
    "    return pipe.predict([x])[0]"
   ]
  },
  {
   "cell_type": "code",
   "execution_count": 83,
   "id": "41607221",
   "metadata": {},
   "outputs": [],
   "source": [
    "import pickle"
   ]
  },
  {
   "cell_type": "code",
   "execution_count": 84,
   "id": "fd3b8247",
   "metadata": {},
   "outputs": [],
   "source": [
    "pickle.dump(pipe,open('model.pkl','wb'))"
   ]
  },
  {
   "cell_type": "code",
   "execution_count": null,
   "id": "d7a34a78",
   "metadata": {},
   "outputs": [],
   "source": []
  }
 ],
 "metadata": {
  "kernelspec": {
   "display_name": "gputest",
   "language": "python",
   "name": "gputest"
  },
  "language_info": {
   "codemirror_mode": {
    "name": "ipython",
    "version": 3
   },
   "file_extension": ".py",
   "mimetype": "text/x-python",
   "name": "python",
   "nbconvert_exporter": "python",
   "pygments_lexer": "ipython3",
   "version": "3.7.16"
  }
 },
 "nbformat": 4,
 "nbformat_minor": 5
}
